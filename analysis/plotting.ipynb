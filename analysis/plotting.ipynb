{
 "cells": [
  {
   "cell_type": "code",
   "execution_count": null,
   "id": "614ae367",
   "metadata": {},
   "outputs": [],
   "source": [
    "import matplotlib.pyplot as plt\n",
    "import pandas as pd\n",
    "\n",
    "\n",
    "model_coverage = 15  # degrees\n",
    "factor = 360/model_coverage\n",
    "\n",
    "filename = \"results/he/surface_flux_flibe_top.csv\"\n",
    "df = pd.read_csv(filename)\n",
    "\n",
    "df"
   ]
  },
  {
   "cell_type": "code",
   "execution_count": null,
   "id": "d11f4180",
   "metadata": {},
   "outputs": [],
   "source": [
    "# add another file to the datafram\n",
    "filename = \"results/he/surface_flux_inconel_inner_side.csv\"\n",
    "\n",
    "df2 = pd.read_csv(filename)\n",
    "\n",
    "# add a new column to df\n",
    "df[\"T flux surface 9\"] = df2[\"T flux surface 9\"]\n",
    "df"
   ]
  },
  {
   "cell_type": "code",
   "execution_count": null,
   "id": "ccacb994",
   "metadata": {},
   "outputs": [],
   "source": [
    "# add another file to the datafram\n",
    "filename = \"results/he/surface_flux_inconel_outer_side_calculated.csv\"\n",
    "\n",
    "df3 = pd.read_csv(filename)\n",
    "\n",
    "# add a new column to df\n",
    "df[\"T flux surface 9\"] = df3[\"T flux surface 9\"]\n",
    "df"
   ]
  },
  {
   "cell_type": "code",
   "execution_count": null,
   "id": "6b91000a",
   "metadata": {},
   "outputs": [],
   "source": [
    "# sum the duplicate times\n",
    "df = df.groupby(\"t(s)\").sum().reset_index()\n",
    "df"
   ]
  },
  {
   "cell_type": "code",
   "execution_count": null,
   "id": "7328277b",
   "metadata": {},
   "outputs": [],
   "source": [
    "plt.plot(df[\"t(s)\"], df[\"T flux surface 8\"])"
   ]
  },
  {
   "cell_type": "code",
   "execution_count": null,
   "id": "4097bf31",
   "metadata": {},
   "outputs": [],
   "source": [
    "import requests\n",
    "\n",
    "# read experimental data\n",
    "url = \"https://raw.githubusercontent.com/LIBRA-project/BABY-1L-run-1/refs/tags/v0.5/data/processed_data.json\"\n",
    "experimental_data = requests.get(url).json()\n",
    "cumulative_release_exp_inner = experimental_data[\"cumulative_tritium_release\"][\"IV\"][\n",
    "    \"total\"\n",
    "][\"value\"]\n",
    "sampling_times_inner = experimental_data[\"cumulative_tritium_release\"][\"IV\"][\n",
    "    \"sampling_times\"\n",
    "][\"value\"]\n",
    "cumulative_release_exp_outer = experimental_data[\"cumulative_tritium_release\"][\"OV\"][\n",
    "    \"total\"\n",
    "][\"value\"]\n",
    "sampling_times_outer = experimental_data[\"cumulative_tritium_release\"][\"OV\"][\n",
    "    \"sampling_times\"\n",
    "][\"value\"]\n"
   ]
  },
  {
   "cell_type": "code",
   "execution_count": null,
   "id": "616293d5",
   "metadata": {},
   "outputs": [],
   "source": [
    "from scipy.integrate import cumulative_trapezoid\n",
    "from libra_toolbox.tritium.model import quantity_to_activity, ureg\n",
    "\n",
    "cumul_release = cumulative_trapezoid(df[\"T flux surface 8\"], df[\"t(s)\"], initial=0) * ureg.particle\n",
    "cumul_release = quantity_to_activity(cumul_release).to(ureg.Bq)\n",
    "cumul_release *= factor\n",
    "\n",
    "s_to_days = 1 / 24 / 3600\n",
    "plt.plot(df[\"t(s)\"] * s_to_days, cumul_release)\n",
    "\n",
    "plt.scatter(sampling_times_inner, cumulative_release_exp_inner * ureg.Bq)"
   ]
  },
  {
   "cell_type": "code",
   "execution_count": null,
   "id": "14c7be29",
   "metadata": {},
   "outputs": [],
   "source": [
    "experimental_data"
   ]
  },
  {
   "cell_type": "code",
   "execution_count": null,
   "id": "7721fe12",
   "metadata": {},
   "outputs": [],
   "source": [
    "TBR = experimental_data[\"measured_TBR\"][\"value\"] * ureg.particle/ureg.neutron\n",
    "salt_vol = 1 * ureg.L\n",
    "neutron_rate = experimental_data[\"neutron_rate_used_in_model\"][\"value\"] * ureg.neutron/ureg.s\n",
    "\n",
    "tritium_source = (TBR/salt_vol*neutron_rate).to(ureg.particle/ureg.m**3/ureg.s)\n",
    "print(f\"{tritium_source:.2e~P}\")"
   ]
  },
  {
   "cell_type": "code",
   "execution_count": null,
   "id": "0885b4be",
   "metadata": {},
   "outputs": [],
   "source": [
    "from festim_model import irradiation_time, my_source\n",
    "\n",
    "\n",
    "expected_plateau = irradiation_time * ureg.s * tritium_source * salt_vol.to(ureg.m**3)\n",
    "expected_plateau = quantity_to_activity(expected_plateau).to(ureg.Bq)\n",
    "expected_plateau"
   ]
  }
 ],
 "metadata": {
  "kernelspec": {
   "display_name": "baby-tritium-transport-env",
   "language": "python",
   "name": "python3"
  },
  "language_info": {
   "codemirror_mode": {
    "name": "ipython",
    "version": 3
   },
   "file_extension": ".py",
   "mimetype": "text/x-python",
   "name": "python",
   "nbconvert_exporter": "python",
   "pygments_lexer": "ipython3",
   "version": "3.12.9"
  }
 },
 "nbformat": 4,
 "nbformat_minor": 5
}
