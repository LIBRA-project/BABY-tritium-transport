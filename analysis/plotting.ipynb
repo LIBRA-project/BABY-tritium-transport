{
 "cells": [
  {
   "cell_type": "code",
   "execution_count": 1,
   "id": "614ae367",
   "metadata": {},
   "outputs": [
    {
     "data": {
      "text/html": [
       "<div>\n",
       "<style scoped>\n",
       "    .dataframe tbody tr th:only-of-type {\n",
       "        vertical-align: middle;\n",
       "    }\n",
       "\n",
       "    .dataframe tbody tr th {\n",
       "        vertical-align: top;\n",
       "    }\n",
       "\n",
       "    .dataframe thead th {\n",
       "        text-align: right;\n",
       "    }\n",
       "</style>\n",
       "<table border=\"1\" class=\"dataframe\">\n",
       "  <thead>\n",
       "    <tr style=\"text-align: right;\">\n",
       "      <th></th>\n",
       "      <th>t(s)</th>\n",
       "      <th>T flux surface 8</th>\n",
       "    </tr>\n",
       "  </thead>\n",
       "  <tbody>\n",
       "    <tr>\n",
       "      <th>0</th>\n",
       "      <td>1.000000e+02</td>\n",
       "      <td>1.283397e+01</td>\n",
       "    </tr>\n",
       "    <tr>\n",
       "      <th>1</th>\n",
       "      <td>2.100000e+02</td>\n",
       "      <td>5.738234e+01</td>\n",
       "    </tr>\n",
       "    <tr>\n",
       "      <th>2</th>\n",
       "      <td>2.100000e+02</td>\n",
       "      <td>2.160728e+01</td>\n",
       "    </tr>\n",
       "    <tr>\n",
       "      <th>3</th>\n",
       "      <td>3.310000e+02</td>\n",
       "      <td>8.258739e+01</td>\n",
       "    </tr>\n",
       "    <tr>\n",
       "      <th>4</th>\n",
       "      <td>3.310000e+02</td>\n",
       "      <td>2.877138e+01</td>\n",
       "    </tr>\n",
       "    <tr>\n",
       "      <th>...</th>\n",
       "      <td>...</td>\n",
       "      <td>...</td>\n",
       "    </tr>\n",
       "    <tr>\n",
       "      <th>180</th>\n",
       "      <td>4.349320e+06</td>\n",
       "      <td>4.661972e-08</td>\n",
       "    </tr>\n",
       "    <tr>\n",
       "      <th>181</th>\n",
       "      <td>4.783292e+06</td>\n",
       "      <td>1.761659e-08</td>\n",
       "    </tr>\n",
       "    <tr>\n",
       "      <th>182</th>\n",
       "      <td>4.783292e+06</td>\n",
       "      <td>4.563049e-08</td>\n",
       "    </tr>\n",
       "    <tr>\n",
       "      <th>183</th>\n",
       "      <td>5.260662e+06</td>\n",
       "      <td>1.665931e-08</td>\n",
       "    </tr>\n",
       "    <tr>\n",
       "      <th>184</th>\n",
       "      <td>5.260662e+06</td>\n",
       "      <td>4.470971e-08</td>\n",
       "    </tr>\n",
       "  </tbody>\n",
       "</table>\n",
       "<p>185 rows × 2 columns</p>\n",
       "</div>"
      ],
      "text/plain": [
       "             t(s)  T flux surface 8\n",
       "0    1.000000e+02      1.283397e+01\n",
       "1    2.100000e+02      5.738234e+01\n",
       "2    2.100000e+02      2.160728e+01\n",
       "3    3.310000e+02      8.258739e+01\n",
       "4    3.310000e+02      2.877138e+01\n",
       "..            ...               ...\n",
       "180  4.349320e+06      4.661972e-08\n",
       "181  4.783292e+06      1.761659e-08\n",
       "182  4.783292e+06      4.563049e-08\n",
       "183  5.260662e+06      1.665931e-08\n",
       "184  5.260662e+06      4.470971e-08\n",
       "\n",
       "[185 rows x 2 columns]"
      ]
     },
     "execution_count": 1,
     "metadata": {},
     "output_type": "execute_result"
    }
   ],
   "source": [
    "import matplotlib.pyplot as plt\n",
    "\n",
    "\n",
    "import pandas as pd\n",
    "\n",
    "filename = \"results/he/surface_flux_flibe_top.csv\"\n",
    "df = pd.read_csv(filename)\n",
    "\n",
    "df"
   ]
  },
  {
   "cell_type": "code",
   "execution_count": 3,
   "id": "6b91000a",
   "metadata": {},
   "outputs": [
    {
     "data": {
      "text/html": [
       "<div>\n",
       "<style scoped>\n",
       "    .dataframe tbody tr th:only-of-type {\n",
       "        vertical-align: middle;\n",
       "    }\n",
       "\n",
       "    .dataframe tbody tr th {\n",
       "        vertical-align: top;\n",
       "    }\n",
       "\n",
       "    .dataframe thead th {\n",
       "        text-align: right;\n",
       "    }\n",
       "</style>\n",
       "<table border=\"1\" class=\"dataframe\">\n",
       "  <thead>\n",
       "    <tr style=\"text-align: right;\">\n",
       "      <th></th>\n",
       "      <th>t(s)</th>\n",
       "      <th>T flux surface 8</th>\n",
       "    </tr>\n",
       "  </thead>\n",
       "  <tbody>\n",
       "    <tr>\n",
       "      <th>0</th>\n",
       "      <td>1.000000e+02</td>\n",
       "      <td>1.283397e+01</td>\n",
       "    </tr>\n",
       "    <tr>\n",
       "      <th>1</th>\n",
       "      <td>2.100000e+02</td>\n",
       "      <td>7.898961e+01</td>\n",
       "    </tr>\n",
       "    <tr>\n",
       "      <th>2</th>\n",
       "      <td>3.310000e+02</td>\n",
       "      <td>1.113588e+02</td>\n",
       "    </tr>\n",
       "    <tr>\n",
       "      <th>3</th>\n",
       "      <td>4.641000e+02</td>\n",
       "      <td>1.418091e+02</td>\n",
       "    </tr>\n",
       "    <tr>\n",
       "      <th>4</th>\n",
       "      <td>6.105100e+02</td>\n",
       "      <td>1.711442e+02</td>\n",
       "    </tr>\n",
       "    <tr>\n",
       "      <th>...</th>\n",
       "      <td>...</td>\n",
       "      <td>...</td>\n",
       "    </tr>\n",
       "    <tr>\n",
       "      <th>88</th>\n",
       "      <td>3.596144e+06</td>\n",
       "      <td>6.980392e-08</td>\n",
       "    </tr>\n",
       "    <tr>\n",
       "      <th>89</th>\n",
       "      <td>3.954799e+06</td>\n",
       "      <td>6.748039e-08</td>\n",
       "    </tr>\n",
       "    <tr>\n",
       "      <th>90</th>\n",
       "      <td>4.349320e+06</td>\n",
       "      <td>6.528893e-08</td>\n",
       "    </tr>\n",
       "    <tr>\n",
       "      <th>91</th>\n",
       "      <td>4.783292e+06</td>\n",
       "      <td>6.324707e-08</td>\n",
       "    </tr>\n",
       "    <tr>\n",
       "      <th>92</th>\n",
       "      <td>5.260662e+06</td>\n",
       "      <td>6.136902e-08</td>\n",
       "    </tr>\n",
       "  </tbody>\n",
       "</table>\n",
       "<p>93 rows × 2 columns</p>\n",
       "</div>"
      ],
      "text/plain": [
       "            t(s)  T flux surface 8\n",
       "0   1.000000e+02      1.283397e+01\n",
       "1   2.100000e+02      7.898961e+01\n",
       "2   3.310000e+02      1.113588e+02\n",
       "3   4.641000e+02      1.418091e+02\n",
       "4   6.105100e+02      1.711442e+02\n",
       "..           ...               ...\n",
       "88  3.596144e+06      6.980392e-08\n",
       "89  3.954799e+06      6.748039e-08\n",
       "90  4.349320e+06      6.528893e-08\n",
       "91  4.783292e+06      6.324707e-08\n",
       "92  5.260662e+06      6.136902e-08\n",
       "\n",
       "[93 rows x 2 columns]"
      ]
     },
     "execution_count": 3,
     "metadata": {},
     "output_type": "execute_result"
    }
   ],
   "source": [
    "# sum the duplicate times\n",
    "df = df.groupby(\"t(s)\").sum().reset_index()\n",
    "df"
   ]
  },
  {
   "cell_type": "code",
   "execution_count": null,
   "id": "7328277b",
   "metadata": {},
   "outputs": [
    {
     "data": {
      "text/plain": [
       "[<matplotlib.lines.Line2D at 0x7f6e07451100>]"
      ]
     },
     "execution_count": 5,
     "metadata": {},
     "output_type": "execute_result"
    },
    {
     "data": {
      "image/png": "[encoded data removed]",
      "text/plain": [
       "<Figure size 640x480 with 1 Axes>"
      ]
     },
     "metadata": {},
     "output_type": "display_data"
    }
   ],
   "source": [
    "plt.plot(df[\"t(s)\"], df[\"T flux surface 8\"])"
   ]
  },
  {
   "cell_type": "code",
   "execution_count": 7,
   "id": "4097bf31",
   "metadata": {},
   "outputs": [],
   "source": [
    "import requests\n",
    "\n",
    "# read experimental data\n",
    "url = \"https://raw.githubusercontent.com/LIBRA-project/BABY-1L-run-1/refs/tags/v0.5/data/processed_data.json\"\n",
    "experimental_data = requests.get(url).json()\n",
    "cumulative_release_exp_inner = experimental_data[\"cumulative_tritium_release\"][\"IV\"][\n",
    "    \"total\"\n",
    "][\"value\"]\n",
    "sampling_times_inner = experimental_data[\"cumulative_tritium_release\"][\"IV\"][\n",
    "    \"sampling_times\"\n",
    "][\"value\"]\n",
    "cumulative_release_exp_outer = experimental_data[\"cumulative_tritium_release\"][\"OV\"][\n",
    "    \"total\"\n",
    "][\"value\"]\n",
    "sampling_times_outer = experimental_data[\"cumulative_tritium_release\"][\"OV\"][\n",
    "    \"sampling_times\"\n",
    "][\"value\"]\n"
   ]
  },
  {
   "cell_type": "code",
   "execution_count": 11,
   "id": "616293d5",
   "metadata": {},
   "outputs": [
    {
     "data": {
      "text/plain": [
       "[<matplotlib.lines.Line2D at 0x7f6dfb211b80>]"
      ]
     },
     "execution_count": 11,
     "metadata": {},
     "output_type": "execute_result"
    },
    {
     "data": {
      "image/png": "[encoded data removed]",
      "text/plain": [
       "<Figure size 640x480 with 1 Axes>"
      ]
     },
     "metadata": {},
     "output_type": "display_data"
    }
   ],
   "source": [
    "from scipy.integrate import cumulative_trapezoid\n",
    "from libra_toolbox.tritium.model import quantity_to_activity, ureg\n",
    "\n",
    "cumul_release = cumulative_trapezoid(df[\"T flux surface 8\"], df[\"t(s)\"], initial=0) * ureg.particle\n",
    "cumul_release = quantity_to_activity(cumul_release).to(ureg.Bq)\n",
    "\n",
    "s_to_days = 1 / 24 / 3600\n",
    "plt.plot(df[\"t(s)\"] * s_to_days, cumul_release)\n",
    "\n",
    "# plt.scatter(sampling_times_inner, cumulative_release_exp_inner * ureg.Bq)"
   ]
  }
 ],
 "metadata": {
  "kernelspec": {
   "display_name": "baby-tritium-transport-env",
   "language": "python",
   "name": "python3"
  },
  "language_info": {
   "codemirror_mode": {
    "name": "ipython",
    "version": 3
   },
   "file_extension": ".py",
   "mimetype": "text/x-python",
   "name": "python",
   "nbconvert_exporter": "python",
   "pygments_lexer": "ipython3",
   "version": "3.12.9"
  }
 },
 "nbformat": 4,
 "nbformat_minor": 5
}
